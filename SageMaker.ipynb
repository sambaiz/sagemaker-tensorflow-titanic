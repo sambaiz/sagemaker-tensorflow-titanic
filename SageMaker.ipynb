{
 "cells": [
  {
   "cell_type": "code",
   "execution_count": null,
   "metadata": {},
   "outputs": [],
   "source": [
    "import sys\n",
    "!{sys.executable} -m pip install sagemaker-experiments\n",
    "!{sys.executable} -m pip install tensorflow\n",
    "!{sys.executable} -m pip install tensorflow_datasets\n",
    "!apt-get install -y make\n",
    "\n",
    "import os\n",
    "import boto3\n",
    "sess = boto3.Session()\n",
    "account_id = sess.client('sts').get_caller_identity()[\"Account\"]\n",
    "os.environ['DATASETS_BUCKET'] = f'sagemaker-test-titanic-{sess.region_name}-{account_id}'\n",
    "os.environ['DATASETS_KEY_PREFIX'] = 'titanic'\n",
    "!make upload_datasets"
   ]
  },
  {
   "cell_type": "code",
   "execution_count": null,
   "metadata": {},
   "outputs": [],
   "source": [
    "from sagemaker.tensorflow import TensorFlow\n",
    "import sagemaker\n",
    "\n",
    "estimator = TensorFlow(\n",
    "    source_dir='/root/sagemaker-tensorflow-titanic',\n",
    "    entry_point='training.py',\n",
    "    model_dir='/opt/ml/model', # => SM_MODEL_DIR\n",
    "    output_path=f's3://{os.environ[\"DATASETS_BUCKET\"]}/artifacts',\n",
    "    role=sagemaker.get_execution_role(),\n",
    "    framework_version='2.2.0',\n",
    "    py_version='py37',\n",
    "    train_instance_count=2,\n",
    "    train_instance_type='ml.g4dn.xlarge',\n",
    "    distributions={\n",
    "        'parameter_server': { 'enabled': True }\n",
    "    },\n",
    "    hyperparameters={\n",
    "        'dropout': 0.2,\n",
    "    },\n",
    "    metric_definitions=[\n",
    "        {'Name':'test:accuracy', 'Regex':'train accuracy: (.*?),'},\n",
    "        {'Name':'test:loss', 'Regex':'train loss: (.*?);'}\n",
    "    ],\n",
    "    enable_sagemaker_metrics=True,\n",
    ")\n",
    "\n",
    "inputs = sagemaker.inputs.s3_input(f's3://{os.environ[\"DATASETS_BUCKET\"]}/{os.environ[\"DATASETS_KEY_PREFIX\"]}')\n",
    "\n",
    "estimator.fit(inputs={'training': inputs})"
   ]
  }
 ],
 "metadata": {
  "instance_type": "ml.t3.medium",
  "kernelspec": {
   "display_name": "Python 3 (Data Science)",
   "language": "python",
   "name": "python3__SAGEMAKER_INTERNAL__arn:aws:sagemaker:us-east-1:081325390199:image/datascience-1.0"
  },
  "language_info": {
   "codemirror_mode": {
    "name": "ipython",
    "version": 3
   },
   "file_extension": ".py",
   "mimetype": "text/x-python",
   "name": "python",
   "nbconvert_exporter": "python",
   "pygments_lexer": "ipython3",
   "version": "3.7.6"
  }
 },
 "nbformat": 4,
 "nbformat_minor": 4
}
